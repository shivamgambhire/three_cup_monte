{
 "cells": [
  {
   "cell_type": "code",
   "execution_count": null,
   "id": "78e6ef4e",
   "metadata": {},
   "outputs": [],
   "source": [
    "# creating the Three cup monte game simple"
   ]
  },
  {
   "cell_type": "code",
   "execution_count": 1,
   "id": "ad1e080c",
   "metadata": {},
   "outputs": [],
   "source": [
    "from random import shuffle"
   ]
  },
  {
   "cell_type": "code",
   "execution_count": 23,
   "id": "6312aa9e",
   "metadata": {},
   "outputs": [],
   "source": [
    "def suff_list(mylist):\n",
    "    shuffle(mylist)\n",
    "    return mylist"
   ]
  },
  {
   "cell_type": "code",
   "execution_count": 24,
   "id": "bc5ec7f4",
   "metadata": {},
   "outputs": [],
   "source": [
    "def play_guess():\n",
    "    guess = ''\n",
    "    while guess not in ['0','1','2']:   #checking if user is entering correct index, if enter wrong try it again\n",
    "        guess = input(\"Guess & Enter 0 , 1 or 2 \")   #taking input from user guess the index\n",
    "    \n",
    "    return int(guess)   #and return guess variable with converting it into integer "
   ]
  },
  {
   "cell_type": "code",
   "execution_count": 25,
   "id": "4dd824bb",
   "metadata": {},
   "outputs": [],
   "source": [
    "def check_guess(mylist,guess):\n",
    "    if mylist[guess] == '0':\n",
    "        print(\"Tada.!! Correct..\")\n",
    "    else:\n",
    "        print(\"Oh O .. Incorrect\")\n",
    "        print(mylist)"
   ]
  },
  {
   "cell_type": "code",
   "execution_count": 27,
   "id": "d92cdf7e",
   "metadata": {},
   "outputs": [
    {
     "name": "stdout",
     "output_type": "stream",
     "text": [
      "Guess & Enter 0 , 1 or 2 0\n",
      "Oh O .. Incorrect\n",
      "[' ', '0', ' ']\n"
     ]
    }
   ],
   "source": [
    "#defining mylist List for shuffle\n",
    "mylist = [' ','0',' ']\n",
    "\n",
    "#shuffle the list\n",
    "mixed_list = suff_list(mylist)\n",
    "\n",
    "#guess the index\n",
    "usr_guess = play_guess()\n",
    "\n",
    "#check the guess\n",
    "check_guess(mixed_list,usr_guess)"
   ]
  },
  {
   "cell_type": "code",
   "execution_count": null,
   "id": "cec3292a",
   "metadata": {},
   "outputs": [],
   "source": []
  },
  {
   "cell_type": "code",
   "execution_count": null,
   "id": "9bb75f04",
   "metadata": {},
   "outputs": [],
   "source": []
  }
 ],
 "metadata": {
  "kernelspec": {
   "display_name": "Python 3 (ipykernel)",
   "language": "python",
   "name": "python3"
  },
  "language_info": {
   "codemirror_mode": {
    "name": "ipython",
    "version": 3
   },
   "file_extension": ".py",
   "mimetype": "text/x-python",
   "name": "python",
   "nbconvert_exporter": "python",
   "pygments_lexer": "ipython3",
   "version": "3.9.7"
  }
 },
 "nbformat": 4,
 "nbformat_minor": 5
}
